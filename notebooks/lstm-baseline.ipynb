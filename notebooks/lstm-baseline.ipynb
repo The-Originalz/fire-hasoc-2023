{
 "cells": [
  {
   "cell_type": "code",
   "execution_count": 19,
   "metadata": {},
   "outputs": [
    {
     "name": "stdout",
     "output_type": "stream",
     "text": [
      "{'data': {'inp': './../inp', 'out': './../out'}, 'logs': './../logs', 'hyps': {'n_split': 5, 'max_len': {'assamese': 256}, 'random_state': [42, 2023]}}\n"
     ]
    }
   ],
   "source": [
    "import os\n",
    "import sys\n",
    "import random\n",
    "import numpy as np\n",
    "import pandas as pd\n",
    "\n",
    "import warnings\n",
    "warnings.filterwarnings('ignore')\n",
    "\n",
    "from sklearn.model_selection import StratifiedKFold\n",
    "from sklearn.metrics import classification_report, f1_score\n",
    "\n",
    "import keras\n",
    "import tensorflow as tf\n",
    "import keras.layers as L\n",
    "from keras import layers\n",
    "import keras.backend as K\n",
    "from keras.models import Model\n",
    "from keras.preprocessing.text import Tokenizer\n",
    "from keras.losses import binary_crossentropy\n",
    "from keras.utils import pad_sequences\n",
    "from keras.layers import Layer, Dropout, Dense, Input, Embedding, Bidirectional, LSTM, Concatenate\n",
    "\n",
    "curr_dir = os.path.dirname(os.path.realpath('__file__'))\n",
    "proj_dir = os.path.abspath(os.path.join(curr_dir, '..'))\n",
    "\n",
    "sys.path.append(proj_dir)\n",
    "\n",
    "from src.configuration import load_config\n",
    "\n",
    "def seed_everything(seed=2023):\n",
    "    random.seed(seed)\n",
    "    os.environ['PYTHONHASHSEED'] = str(seed)\n",
    "    np.random.seed(seed)\n",
    "    tf.random.set_seed(seed)\n",
    "    \n",
    "seed_everything()\n",
    "\n",
    "cfg = load_config()\n",
    "print(cfg)"
   ]
  },
  {
   "cell_type": "code",
   "execution_count": 20,
   "metadata": {},
   "outputs": [],
   "source": [
    "train_df = pd.read_csv(os.path.join(cfg['data']['inp'], 'assamese/train_A_AH_HASOC2023.csv'))\n",
    "test_df = pd.read_csv(os.path.join(cfg['data']['inp'], 'assamese/test_A_AH_HASOC2023.csv'))\n",
    "sub_df = pd.read_csv(os.path.join(cfg['data']['inp'], 'assamese/sample.csv'))"
   ]
  },
  {
   "cell_type": "code",
   "execution_count": 21,
   "metadata": {},
   "outputs": [],
   "source": [
    "MAXLEN = 256\n",
    "VOCAB_SIZE = 20000\n",
    "EMBED_DIM = 128\n",
    "BATCH_SIZE = 128\n",
    "EPOCHS = 10\n",
    "CLASSES = 2\n",
    "\n",
    "TEXT_COL = \"text\"\n",
    "TARGET_COL = \"task_1\""
   ]
  },
  {
   "cell_type": "code",
   "execution_count": 22,
   "metadata": {},
   "outputs": [
    {
     "name": "stdout",
     "output_type": "stream",
     "text": [
      "Length of train:  4036\n",
      "Length of test:  1009\n"
     ]
    }
   ],
   "source": [
    "print(\"Length of train: \", len(train_df))\n",
    "print(\"Length of test: \", len(test_df))\n",
    "\n",
    "tokenizer = Tokenizer(num_words=VOCAB_SIZE, filters='!\"#$&(),.:;?@[\\\\]^_`{|}\\t\\n')\n",
    "tokenizer.fit_on_texts(list(train_df[TEXT_COL]) + list(test_df[TEXT_COL]))\n",
    "word_idx = tokenizer.word_index\n",
    "\n",
    "X_train = tokenizer.texts_to_sequences(list(train_df[TEXT_COL]))\n",
    "y_train = train_df[TARGET_COL].map({'HOF': 0, 'NOT': 1})\n",
    "\n",
    "X_test = tokenizer.texts_to_sequences(list(test_df[TEXT_COL]))\n",
    "\n",
    "X_train = pad_sequences(X_train, maxlen=MAXLEN)\n",
    "X_test = pad_sequences(X_test, maxlen=MAXLEN)"
   ]
  },
  {
   "cell_type": "code",
   "execution_count": 23,
   "metadata": {},
   "outputs": [],
   "source": [
    "class AttentionBlock(keras.Model):\n",
    "\n",
    "    def __init__(self, units):\n",
    "        super(AttentionBlock, self).__init__()\n",
    "        self.W1 = Dense(units=units)\n",
    "        self.W2 = Dense(units=units)\n",
    "        self.V = Dense(1)\n",
    "\n",
    "    def call(self, features, hidden):\n",
    "        hidden_t = K.expand_dims(hidden, 1)\n",
    "        # additive attention\n",
    "        score = K.tanh(self.W1(features) + self.W2(hidden_t))\n",
    "\n",
    "        attn_weights = K.softmax(self.V(score), axis=1)\n",
    "\n",
    "        context = attn_weights * features\n",
    "        context = tf.reduce_sum(context, axis=1)\n",
    "\n",
    "        return context, attn_weights\n",
    "        pass\n",
    "\n",
    "    pass\n",
    "\n",
    "\n",
    "def build_model(max_len, max_features, embed_size, attn_units=20, num_classes=4, rnn_cell_size=32):\n",
    "    seq_inp = Input(shape=max_len, dtype=\"int32\")\n",
    "    embedded_seq = Embedding(max_features, embed_size)(seq_inp)\n",
    "    lstm = Bidirectional(LSTM(\n",
    "        rnn_cell_size, return_sequences=True\n",
    "    ), name=\"bilstm_0\")(embedded_seq)\n",
    "\n",
    "    lstm, f_h, f_c, b_h, b_c = Bidirectional(LSTM(\n",
    "        rnn_cell_size, return_sequences=True, return_state=True\n",
    "    ), name=\"bilstm_1\")(lstm)\n",
    "\n",
    "    h_ = Concatenate()([f_h, b_h])\n",
    "    c_ = Concatenate()([f_c, b_c])\n",
    "\n",
    "    context, attn_weights = AttentionBlock(attn_units)(lstm, h_)\n",
    "\n",
    "    fc_pre = Dense(16, activation=\"relu\")(context)\n",
    "    do = Dropout(0.5)(fc_pre)\n",
    "    output = Dense(1, activation=\"sigmoid\")(do)\n",
    "\n",
    "    return keras.Model(inputs=seq_inp, outputs=output)\n",
    "    pass"
   ]
  },
  {
   "cell_type": "code",
   "execution_count": 24,
   "metadata": {},
   "outputs": [
    {
     "name": "stdout",
     "output_type": "stream",
     "text": [
      "Model: \"model\"\n",
      "__________________________________________________________________________________________________\n",
      " Layer (type)                Output Shape                 Param #   Connected to                  \n",
      "==================================================================================================\n",
      " input_1 (InputLayer)        [(None, 256)]                0         []                            \n",
      "                                                                                                  \n",
      " embedding (Embedding)       (None, 256, 128)             2560000   ['input_1[0][0]']             \n",
      "                                                                                                  \n",
      " bilstm_0 (Bidirectional)    (None, 256, 64)              41216     ['embedding[0][0]']           \n",
      "                                                                                                  \n",
      " bilstm_1 (Bidirectional)    [(None, 256, 64),            24832     ['bilstm_0[0][0]']            \n",
      "                              (None, 32),                                                         \n",
      "                              (None, 32),                                                         \n",
      "                              (None, 32),                                                         \n",
      "                              (None, 32)]                                                         \n",
      "                                                                                                  \n",
      " concatenate (Concatenate)   (None, 64)                   0         ['bilstm_1[0][1]',            \n",
      "                                                                     'bilstm_1[0][3]']            \n",
      "                                                                                                  \n",
      " attention_block (Attention  ((None, 64),                 2621      ['bilstm_1[0][0]',            \n",
      " Block)                       (None, 256, 1))                        'concatenate[0][0]']         \n",
      "                                                                                                  \n",
      " dense_3 (Dense)             (None, 16)                   1040      ['attention_block[0][0]']     \n",
      "                                                                                                  \n",
      " dropout (Dropout)           (None, 16)                   0         ['dense_3[0][0]']             \n",
      "                                                                                                  \n",
      " dense_4 (Dense)             (None, 1)                    17        ['dropout[0][0]']             \n",
      "                                                                                                  \n",
      "==================================================================================================\n",
      "Total params: 2629726 (10.03 MB)\n",
      "Trainable params: 2629726 (10.03 MB)\n",
      "Non-trainable params: 0 (0.00 Byte)\n",
      "__________________________________________________________________________________________________\n"
     ]
    }
   ],
   "source": [
    "model = build_model(max_len=MAXLEN, max_features=VOCAB_SIZE, embed_size=EMBED_DIM, num_classes=CLASSES)\n",
    "model.compile(loss=tf.keras.losses.BinaryFocalCrossentropy(from_logits=False),\n",
    "             optimizer=\"adam\",\n",
    "             metrics=[tf.keras.metrics.binary_crossentropy, tf.keras.metrics.binary_focal_crossentropy])\n",
    "model.summary()"
   ]
  },
  {
   "cell_type": "code",
   "execution_count": 25,
   "metadata": {},
   "outputs": [
    {
     "name": "stdout",
     "output_type": "stream",
     "text": [
      "\n",
      "======FOLD 0=====\n",
      "\n",
      "Epoch 1/10\n",
      "26/26 [==============================] - 24s 644ms/step - loss: 0.1720 - binary_crossentropy: 0.6888 - binary_focal_crossentropy: 0.1720 - val_loss: 0.1704 - val_binary_crossentropy: 0.6861 - val_binary_focal_crossentropy: 0.1704\n",
      "Epoch 2/10\n",
      "26/26 [==============================] - 15s 576ms/step - loss: 0.1712 - binary_crossentropy: 0.6869 - binary_focal_crossentropy: 0.1712 - val_loss: 0.1705 - val_binary_crossentropy: 0.6868 - val_binary_focal_crossentropy: 0.1705\n",
      "Epoch 3/10\n",
      "26/26 [==============================] - 16s 636ms/step - loss: 0.1710 - binary_crossentropy: 0.6874 - binary_focal_crossentropy: 0.1710 - val_loss: 0.1704 - val_binary_crossentropy: 0.6865 - val_binary_focal_crossentropy: 0.1704\n",
      "Epoch 4/10\n",
      "26/26 [==============================] - 17s 635ms/step - loss: 0.1710 - binary_crossentropy: 0.6870 - binary_focal_crossentropy: 0.1710 - val_loss: 0.1703 - val_binary_crossentropy: 0.6855 - val_binary_focal_crossentropy: 0.1703\n",
      "Epoch 5/10\n",
      "26/26 [==============================] - 15s 586ms/step - loss: 0.1708 - binary_crossentropy: 0.6856 - binary_focal_crossentropy: 0.1708 - val_loss: 0.1705 - val_binary_crossentropy: 0.6869 - val_binary_focal_crossentropy: 0.1705\n",
      "Epoch 6/10\n",
      "26/26 [==============================] - 16s 603ms/step - loss: 0.1677 - binary_crossentropy: 0.6810 - binary_focal_crossentropy: 0.1677 - val_loss: 0.1773 - val_binary_crossentropy: 0.6840 - val_binary_focal_crossentropy: 0.1773\n",
      "Epoch 7/10\n",
      "26/26 [==============================] - 15s 574ms/step - loss: 0.1355 - binary_crossentropy: 0.5842 - binary_focal_crossentropy: 0.1355 - val_loss: 0.2088 - val_binary_crossentropy: 0.7213 - val_binary_focal_crossentropy: 0.2088\n",
      "Epoch 8/10\n",
      "26/26 [==============================] - 15s 591ms/step - loss: 0.0869 - binary_crossentropy: 0.4297 - binary_focal_crossentropy: 0.0869 - val_loss: 0.2516 - val_binary_crossentropy: 0.6394 - val_binary_focal_crossentropy: 0.2516\n",
      "Epoch 9/10\n",
      "26/26 [==============================] - 15s 588ms/step - loss: 0.0380 - binary_crossentropy: 0.2369 - binary_focal_crossentropy: 0.0380 - val_loss: 0.3446 - val_binary_crossentropy: 0.6756 - val_binary_focal_crossentropy: 0.3446\n",
      "Epoch 10/10\n",
      "26/26 [==============================] - 15s 562ms/step - loss: 0.0208 - binary_crossentropy: 0.1473 - binary_focal_crossentropy: 0.0208 - val_loss: 0.4384 - val_binary_crossentropy: 0.7369 - val_binary_focal_crossentropy: 0.4384\n",
      "26/26 [==============================] - 4s 95ms/step\n",
      "32/32 [==============================] - 3s 107ms/step\n",
      "\n",
      "======FOLD 1=====\n",
      "\n",
      "Epoch 1/10\n",
      "26/26 [==============================] - 17s 582ms/step - loss: 0.0834 - binary_crossentropy: 0.3705 - binary_focal_crossentropy: 0.0834 - val_loss: 0.0337 - val_binary_crossentropy: 0.3228 - val_binary_focal_crossentropy: 0.0337\n",
      "Epoch 2/10\n",
      "26/26 [==============================] - 15s 576ms/step - loss: 0.0413 - binary_crossentropy: 0.2756 - binary_focal_crossentropy: 0.0413 - val_loss: 0.0128 - val_binary_crossentropy: 0.1680 - val_binary_focal_crossentropy: 0.0128\n",
      "Epoch 3/10\n",
      "26/26 [==============================] - 15s 583ms/step - loss: 0.0176 - binary_crossentropy: 0.1579 - binary_focal_crossentropy: 0.0176 - val_loss: 0.0135 - val_binary_crossentropy: 0.1173 - val_binary_focal_crossentropy: 0.0135\n",
      "Epoch 4/10\n",
      "26/26 [==============================] - 15s 567ms/step - loss: 0.0105 - binary_crossentropy: 0.1044 - binary_focal_crossentropy: 0.0105 - val_loss: 0.0194 - val_binary_crossentropy: 0.0945 - val_binary_focal_crossentropy: 0.0194\n",
      "Epoch 5/10\n",
      "26/26 [==============================] - 16s 602ms/step - loss: 0.0069 - binary_crossentropy: 0.0755 - binary_focal_crossentropy: 0.0069 - val_loss: 0.0218 - val_binary_crossentropy: 0.0860 - val_binary_focal_crossentropy: 0.0218\n",
      "Epoch 6/10\n",
      "26/26 [==============================] - 15s 565ms/step - loss: 0.0061 - binary_crossentropy: 0.0618 - binary_focal_crossentropy: 0.0061 - val_loss: 0.0241 - val_binary_crossentropy: 0.0845 - val_binary_focal_crossentropy: 0.0241\n",
      "Epoch 7/10\n",
      "26/26 [==============================] - 21s 813ms/step - loss: 0.0048 - binary_crossentropy: 0.0547 - binary_focal_crossentropy: 0.0048 - val_loss: 0.0318 - val_binary_crossentropy: 0.0840 - val_binary_focal_crossentropy: 0.0318\n",
      "Epoch 8/10\n",
      "26/26 [==============================] - 23s 905ms/step - loss: 0.0054 - binary_crossentropy: 0.0511 - binary_focal_crossentropy: 0.0054 - val_loss: 0.0288 - val_binary_crossentropy: 0.0796 - val_binary_focal_crossentropy: 0.0288\n",
      "Epoch 9/10\n",
      "26/26 [==============================] - 21s 803ms/step - loss: 0.0043 - binary_crossentropy: 0.0487 - binary_focal_crossentropy: 0.0043 - val_loss: 0.0276 - val_binary_crossentropy: 0.0797 - val_binary_focal_crossentropy: 0.0276\n",
      "Epoch 10/10\n",
      "26/26 [==============================] - 19s 744ms/step - loss: 0.0032 - binary_crossentropy: 0.0425 - binary_focal_crossentropy: 0.0032 - val_loss: 0.0318 - val_binary_crossentropy: 0.0766 - val_binary_focal_crossentropy: 0.0318\n",
      "26/26 [==============================] - 3s 112ms/step\n",
      "32/32 [==============================] - 4s 111ms/step\n",
      "\n",
      "======FOLD 2=====\n",
      "\n",
      "Epoch 1/10\n",
      "26/26 [==============================] - 22s 769ms/step - loss: 0.0101 - binary_crossentropy: 0.0626 - binary_focal_crossentropy: 0.0101 - val_loss: 0.0079 - val_binary_crossentropy: 0.0351 - val_binary_focal_crossentropy: 0.0079\n",
      "Epoch 2/10\n",
      "26/26 [==============================] - 20s 789ms/step - loss: 0.0066 - binary_crossentropy: 0.0592 - binary_focal_crossentropy: 0.0066 - val_loss: 0.0102 - val_binary_crossentropy: 0.0355 - val_binary_focal_crossentropy: 0.0102\n",
      "Epoch 3/10\n",
      "26/26 [==============================] - 18s 684ms/step - loss: 0.0055 - binary_crossentropy: 0.0541 - binary_focal_crossentropy: 0.0055 - val_loss: 0.0120 - val_binary_crossentropy: 0.0345 - val_binary_focal_crossentropy: 0.0120\n",
      "Epoch 4/10\n",
      "26/26 [==============================] - 19s 742ms/step - loss: 0.0052 - binary_crossentropy: 0.0461 - binary_focal_crossentropy: 0.0052 - val_loss: 0.0147 - val_binary_crossentropy: 0.0334 - val_binary_focal_crossentropy: 0.0147\n",
      "Epoch 5/10\n",
      "26/26 [==============================] - 18s 686ms/step - loss: 0.0045 - binary_crossentropy: 0.0381 - binary_focal_crossentropy: 0.0045 - val_loss: 0.0156 - val_binary_crossentropy: 0.0350 - val_binary_focal_crossentropy: 0.0156\n",
      "Epoch 6/10\n",
      "26/26 [==============================] - 22s 863ms/step - loss: 0.0041 - binary_crossentropy: 0.0372 - binary_focal_crossentropy: 0.0041 - val_loss: 0.0174 - val_binary_crossentropy: 0.0352 - val_binary_focal_crossentropy: 0.0174\n",
      "Epoch 7/10\n",
      "26/26 [==============================] - 18s 674ms/step - loss: 0.0030 - binary_crossentropy: 0.0333 - binary_focal_crossentropy: 0.0030 - val_loss: 0.0177 - val_binary_crossentropy: 0.0362 - val_binary_focal_crossentropy: 0.0177\n",
      "Epoch 8/10\n",
      "26/26 [==============================] - 18s 688ms/step - loss: 0.0037 - binary_crossentropy: 0.0373 - binary_focal_crossentropy: 0.0037 - val_loss: 0.0150 - val_binary_crossentropy: 0.0331 - val_binary_focal_crossentropy: 0.0150\n",
      "Epoch 9/10\n",
      "26/26 [==============================] - 18s 680ms/step - loss: 0.0034 - binary_crossentropy: 0.0290 - binary_focal_crossentropy: 0.0034 - val_loss: 0.0177 - val_binary_crossentropy: 0.0340 - val_binary_focal_crossentropy: 0.0177\n",
      "Epoch 10/10\n",
      "26/26 [==============================] - 19s 721ms/step - loss: 0.0029 - binary_crossentropy: 0.0287 - binary_focal_crossentropy: 0.0029 - val_loss: 0.0231 - val_binary_crossentropy: 0.0419 - val_binary_focal_crossentropy: 0.0231\n",
      "26/26 [==============================] - 3s 110ms/step\n",
      "32/32 [==============================] - 4s 117ms/step\n",
      "\n",
      "======FOLD 3=====\n",
      "\n",
      "Epoch 1/10\n",
      "26/26 [==============================] - 24s 855ms/step - loss: 0.0081 - binary_crossentropy: 0.0410 - binary_focal_crossentropy: 0.0081 - val_loss: 0.0035 - val_binary_crossentropy: 0.0227 - val_binary_focal_crossentropy: 0.0035\n",
      "Epoch 2/10\n",
      "26/26 [==============================] - 22s 867ms/step - loss: 0.0052 - binary_crossentropy: 0.0539 - binary_focal_crossentropy: 0.0052 - val_loss: 0.0062 - val_binary_crossentropy: 0.0269 - val_binary_focal_crossentropy: 0.0062\n",
      "Epoch 3/10\n",
      "26/26 [==============================] - 22s 856ms/step - loss: 0.0034 - binary_crossentropy: 0.0407 - binary_focal_crossentropy: 0.0034 - val_loss: 0.0068 - val_binary_crossentropy: 0.0214 - val_binary_focal_crossentropy: 0.0068\n",
      "Epoch 4/10\n",
      "26/26 [==============================] - 19s 717ms/step - loss: 0.0040 - binary_crossentropy: 0.0365 - binary_focal_crossentropy: 0.0040 - val_loss: 0.0087 - val_binary_crossentropy: 0.0227 - val_binary_focal_crossentropy: 0.0087\n",
      "Epoch 5/10\n",
      "26/26 [==============================] - 17s 650ms/step - loss: 0.0029 - binary_crossentropy: 0.0299 - binary_focal_crossentropy: 0.0029 - val_loss: 0.0098 - val_binary_crossentropy: 0.0221 - val_binary_focal_crossentropy: 0.0098\n",
      "Epoch 6/10\n",
      "26/26 [==============================] - 17s 653ms/step - loss: 0.0027 - binary_crossentropy: 0.0254 - binary_focal_crossentropy: 0.0027 - val_loss: 0.0077 - val_binary_crossentropy: 0.0179 - val_binary_focal_crossentropy: 0.0077\n",
      "Epoch 7/10\n",
      "26/26 [==============================] - 17s 653ms/step - loss: 0.0020 - binary_crossentropy: 0.0219 - binary_focal_crossentropy: 0.0020 - val_loss: 0.0082 - val_binary_crossentropy: 0.0171 - val_binary_focal_crossentropy: 0.0082\n",
      "Epoch 8/10\n",
      "26/26 [==============================] - 17s 659ms/step - loss: 0.0026 - binary_crossentropy: 0.0238 - binary_focal_crossentropy: 0.0026 - val_loss: 0.0091 - val_binary_crossentropy: 0.0177 - val_binary_focal_crossentropy: 0.0091\n",
      "Epoch 9/10\n",
      "26/26 [==============================] - 16s 628ms/step - loss: 0.0018 - binary_crossentropy: 0.0188 - binary_focal_crossentropy: 0.0018 - val_loss: 0.0090 - val_binary_crossentropy: 0.0166 - val_binary_focal_crossentropy: 0.0090\n",
      "Epoch 10/10\n",
      "26/26 [==============================] - 16s 634ms/step - loss: 0.0026 - binary_crossentropy: 0.0195 - binary_focal_crossentropy: 0.0026 - val_loss: 0.0101 - val_binary_crossentropy: 0.0172 - val_binary_focal_crossentropy: 0.0101\n",
      "26/26 [==============================] - 3s 118ms/step\n",
      "32/32 [==============================] - 4s 112ms/step\n",
      "\n",
      "======FOLD 4=====\n",
      "\n",
      "Epoch 1/10\n",
      "26/26 [==============================] - 19s 662ms/step - loss: 0.0041 - binary_crossentropy: 0.0233 - binary_focal_crossentropy: 0.0041 - val_loss: 4.0784e-04 - val_binary_crossentropy: 0.0078 - val_binary_focal_crossentropy: 4.0784e-04\n",
      "Epoch 2/10\n",
      "26/26 [==============================] - 16s 628ms/step - loss: 0.0035 - binary_crossentropy: 0.0263 - binary_focal_crossentropy: 0.0035 - val_loss: 7.3574e-04 - val_binary_crossentropy: 0.0068 - val_binary_focal_crossentropy: 7.3574e-04\n",
      "Epoch 3/10\n",
      "26/26 [==============================] - 16s 634ms/step - loss: 0.0024 - binary_crossentropy: 0.0233 - binary_focal_crossentropy: 0.0024 - val_loss: 0.0012 - val_binary_crossentropy: 0.0071 - val_binary_focal_crossentropy: 0.0012\n",
      "Epoch 4/10\n",
      "26/26 [==============================] - 17s 648ms/step - loss: 0.0032 - binary_crossentropy: 0.0248 - binary_focal_crossentropy: 0.0032 - val_loss: 0.0012 - val_binary_crossentropy: 0.0080 - val_binary_focal_crossentropy: 0.0012\n",
      "Epoch 5/10\n",
      "26/26 [==============================] - 17s 643ms/step - loss: 0.0028 - binary_crossentropy: 0.0224 - binary_focal_crossentropy: 0.0028 - val_loss: 0.0011 - val_binary_crossentropy: 0.0062 - val_binary_focal_crossentropy: 0.0011\n",
      "Epoch 6/10\n",
      "26/26 [==============================] - 16s 616ms/step - loss: 0.0018 - binary_crossentropy: 0.0159 - binary_focal_crossentropy: 0.0018 - val_loss: 0.0014 - val_binary_crossentropy: 0.0057 - val_binary_focal_crossentropy: 0.0014\n",
      "Epoch 7/10\n",
      "26/26 [==============================] - 17s 649ms/step - loss: 0.0020 - binary_crossentropy: 0.0153 - binary_focal_crossentropy: 0.0020 - val_loss: 0.0015 - val_binary_crossentropy: 0.0054 - val_binary_focal_crossentropy: 0.0015\n",
      "Epoch 8/10\n",
      "26/26 [==============================] - 17s 652ms/step - loss: 0.0026 - binary_crossentropy: 0.0184 - binary_focal_crossentropy: 0.0026 - val_loss: 0.0017 - val_binary_crossentropy: 0.0055 - val_binary_focal_crossentropy: 0.0017\n",
      "Epoch 9/10\n",
      "26/26 [==============================] - 16s 622ms/step - loss: 0.0017 - binary_crossentropy: 0.0139 - binary_focal_crossentropy: 0.0017 - val_loss: 0.0021 - val_binary_crossentropy: 0.0056 - val_binary_focal_crossentropy: 0.0021\n",
      "Epoch 10/10\n",
      "26/26 [==============================] - 17s 635ms/step - loss: 0.0025 - binary_crossentropy: 0.0152 - binary_focal_crossentropy: 0.0025 - val_loss: 0.0022 - val_binary_crossentropy: 0.0057 - val_binary_focal_crossentropy: 0.0022\n",
      "26/26 [==============================] - 3s 112ms/step\n",
      "32/32 [==============================] - 4s 110ms/step\n"
     ]
    }
   ],
   "source": [
    "cv_splits = list(StratifiedKFold(n_splits=5).split(X_train, y_train))\n",
    "\n",
    "oof_preds = np.zeros((X_train.shape[0],))\n",
    "test_preds = np.zeros((X_test.shape[0],))\n",
    "\n",
    "for fold in range(5):\n",
    "    K.clear_session()\n",
    "    train_idx, val_idx = cv_splits[fold]\n",
    "    print(\"\\n======FOLD {}=====\".format(fold))\n",
    "    print()\n",
    "    model.fit(X_train[train_idx], y_train[train_idx],\n",
    "                batch_size=BATCH_SIZE,\n",
    "                epochs=EPOCHS,\n",
    "                validation_data=(X_train[val_idx], y_train[val_idx]))\n",
    "\n",
    "    oof_preds[val_idx] += model.predict(X_train[val_idx])[:, 0]\n",
    "    test_preds += model.predict(X_test)[:, 0]"
   ]
  },
  {
   "cell_type": "code",
   "execution_count": 26,
   "metadata": {},
   "outputs": [
    {
     "name": "stdout",
     "output_type": "stream",
     "text": [
      "Training Finished...\n",
      "Performance in training Data...\n",
      "F1 Score for Training:  0.903169014084507\n",
      "Classification report for training: \n",
      "               precision    recall  f1-score   support\n",
      "\n",
      "           0       0.94      0.92      0.93      2347\n",
      "           1       0.90      0.91      0.90      1689\n",
      "\n",
      "    accuracy                           0.92      4036\n",
      "   macro avg       0.92      0.92      0.92      4036\n",
      "weighted avg       0.92      0.92      0.92      4036\n",
      "\n"
     ]
    }
   ],
   "source": [
    "print(\"Training Finished...\")\n",
    "print(\"Performance in training Data...\")\n",
    "oof_pred = tf.math.greater_equal(oof_preds, 0.5)\n",
    "val_f1_score = f1_score(y_true=y_train, y_pred=oof_pred)\n",
    "print(\"F1 Score for Training: \", val_f1_score)\n",
    "print(\"Classification report for training: \\n\", classification_report(y_true=y_train, y_pred=oof_pred))"
   ]
  },
  {
   "cell_type": "code",
   "execution_count": 28,
   "metadata": {},
   "outputs": [
    {
     "name": "stdout",
     "output_type": "stream",
     "text": [
      "Evaluation on test data...\n"
     ]
    }
   ],
   "source": [
    "y_preds = test_preds / 5\n",
    "\n",
    "print(\"Evaluation on test data...\")\n",
    "y_pred = tf.math.greater_equal(y_preds, 0.5).numpy().astype(int)"
   ]
  },
  {
   "cell_type": "code",
   "execution_count": 29,
   "metadata": {},
   "outputs": [
    {
     "data": {
      "text/plain": [
       "task_1\n",
       "HOF    584\n",
       "NOT    425\n",
       "Name: count, dtype: int64"
      ]
     },
     "execution_count": 29,
     "metadata": {},
     "output_type": "execute_result"
    }
   ],
   "source": [
    "test_df['task_1'] = y_pred\n",
    "test_df['task_1'] = test_df['task_1'].map({0:'HOF', 1:'NOT'})\n",
    "test_df['task_1'].value_counts()"
   ]
  },
  {
   "cell_type": "code",
   "execution_count": 33,
   "metadata": {},
   "outputs": [],
   "source": [
    "test_df[['S. No.', 'task_1']].to_csv(f'./../out/baseline_lstm_submission_{val_f1_score}localF1.csv', index=False)"
   ]
  }
 ],
 "metadata": {
  "kernelspec": {
   "display_name": "hasoc",
   "language": "python",
   "name": "python3"
  },
  "language_info": {
   "codemirror_mode": {
    "name": "ipython",
    "version": 3
   },
   "file_extension": ".py",
   "mimetype": "text/x-python",
   "name": "python",
   "nbconvert_exporter": "python",
   "pygments_lexer": "ipython3",
   "version": "3.10.6"
  },
  "orig_nbformat": 4
 },
 "nbformat": 4,
 "nbformat_minor": 2
}
